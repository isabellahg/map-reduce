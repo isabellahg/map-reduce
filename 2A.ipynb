{
  "nbformat": 4,
  "nbformat_minor": 0,
  "metadata": {
    "colab": {
      "provenance": [],
      "authorship_tag": "ABX9TyPgnS67p9VL2sucU+kXRE4i",
      "include_colab_link": true
    },
    "kernelspec": {
      "name": "python3",
      "display_name": "Python 3"
    },
    "language_info": {
      "name": "python"
    }
  },
  "cells": [
    {
      "cell_type": "markdown",
      "metadata": {
        "id": "view-in-github",
        "colab_type": "text"
      },
      "source": [
        "<a href=\"https://colab.research.google.com/github/isabellahg/map-reduce/blob/main/2A.ipynb\" target=\"_parent\"><img src=\"https://colab.research.google.com/assets/colab-badge.svg\" alt=\"Open In Colab\"/></a>"
      ]
    },
    {
      "cell_type": "markdown",
      "source": [
        "## Configuración de hadoop"
      ],
      "metadata": {
        "id": "72H6Bh4NcIZI"
      }
    },
    {
      "cell_type": "code",
      "execution_count": 1,
      "metadata": {
        "colab": {
          "base_uri": "https://localhost:8080/"
        },
        "id": "pmPp82MOcEZh",
        "outputId": "244236fc-2876-4415-e7b6-b30c80e67794"
      },
      "outputs": [
        {
          "output_type": "stream",
          "name": "stdout",
          "text": [
            "--2023-02-05 21:18:46--  https://dlcdn.apache.org/spark/spark-3.2.3/spark-3.2.3-bin-hadoop3.2.tgz\n",
            "Resolving dlcdn.apache.org (dlcdn.apache.org)... 151.101.2.132, 2a04:4e42::644\n",
            "Connecting to dlcdn.apache.org (dlcdn.apache.org)|151.101.2.132|:443... connected.\n",
            "HTTP request sent, awaiting response... 200 OK\n",
            "Length: 301136158 (287M) [application/x-gzip]\n",
            "Saving to: ‘spark-3.2.3-bin-hadoop3.2.tgz’\n",
            "\n",
            "spark-3.2.3-bin-had 100%[===================>] 287.19M   188MB/s    in 1.5s    \n",
            "\n",
            "2023-02-05 21:18:48 (188 MB/s) - ‘spark-3.2.3-bin-hadoop3.2.tgz’ saved [301136158/301136158]\n",
            "\n"
          ]
        }
      ],
      "source": [
        "!apt-get install openjdk-8-jdk-headless -qq > /dev/null\n",
        "import os\n",
        "os.environ[\"JAVA_HOME\"] = \"/usr/lib/jvm/java-8-openjdk-amd64\"\n",
        "os.environ[\"SPARK_HOME\"] = \"/content/spark-3.2.3-bin-hadoop3.2\"\n",
        "\n",
        "!wget https://dlcdn.apache.org/spark/spark-3.2.3/spark-3.2.3-bin-hadoop3.2.tgz\n",
        "!tar -xf spark-3.2.3-bin-hadoop3.2.tgz\n",
        "!pip install -q findspark\n",
        "\n",
        "\n",
        "## Iniciar sesión\n",
        "\n",
        "import findspark\n",
        "findspark.init()\n",
        "from pyspark.sql import SparkSession\n",
        "spark = SparkSession.builder\\\n",
        "        .master(\"local[*]\")\\\n",
        "        .appName(\"Spark_Dataframes\")\\\n",
        "        .getOrCreate()\n",
        "\n"
      ]
    },
    {
      "cell_type": "markdown",
      "source": [
        "## Configuración del dataset"
      ],
      "metadata": {
        "id": "gXgKFFJyccAu"
      }
    },
    {
      "cell_type": "code",
      "source": [
        "## Utilizar esta celda SOLO si el dataset lo tenemos en Google Drive\n",
        "from google.colab import drive\n",
        "drive.mount('/content/gdrive')"
      ],
      "metadata": {
        "colab": {
          "base_uri": "https://localhost:8080/"
        },
        "id": "5Txg2yGjcjU6",
        "outputId": "aa48759e-8ac2-4ce5-9ff3-6f334cd2acd1"
      },
      "execution_count": 3,
      "outputs": [
        {
          "output_type": "stream",
          "name": "stdout",
          "text": [
            "Mounted at /content/gdrive\n"
          ]
        }
      ]
    },
    {
      "cell_type": "code",
      "source": [
        "ds = spark.read.csv('/content/gdrive/MyDrive/Colab Notebooks/weblog.csv')\n"
      ],
      "metadata": {
        "id": "Cdo-fVRwdCMY"
      },
      "execution_count": 4,
      "outputs": []
    },
    {
      "cell_type": "markdown",
      "source": [
        "# Ejercicios"
      ],
      "metadata": {
        "id": "FxTubGLAdLl0"
      }
    },
    {
      "cell_type": "markdown",
      "source": [
        "### A Conocer la frecuencia de acceso de cada cliente a recursos de nuestro servidor"
      ],
      "metadata": {
        "id": "thjST2qEdUWu"
      }
    },
    {
      "cell_type": "code",
      "source": [],
      "metadata": {
        "id": "tZ6B_3L-dOHU"
      },
      "execution_count": null,
      "outputs": []
    }
  ]
}